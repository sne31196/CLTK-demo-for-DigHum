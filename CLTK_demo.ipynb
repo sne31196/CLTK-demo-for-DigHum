{
 "cells": [
  {
   "cell_type": "markdown",
   "id": "5f8f1cfe",
   "metadata": {},
   "source": [
    "# Demonstration of the Classical Language Tool Kit (CLTK)\n",
    "Source: http://cltk.org\n",
    "\n",
    "The Classical Language Toolkit (CLTK) is a Python library offering natural language processing (NLP) for the languages of pre–modern Eurasia. Pre-configured pipelines are available for 19 languages.\n",
    "\n",
    "For a quick introduction into the motivation and intention behind CLTK please refer to the paper from the reading list.\n",
    "\n",
    "For the docs please check out: https://docs.cltk.org/en/latest/index.html"
   ]
  },
  {
   "cell_type": "markdown",
   "id": "dab0b35b",
   "metadata": {},
   "source": [
    "## Installation\n",
    "\n",
    "There are two ways of installing CLTK. Either by using\n",
    "```$ !pip install cltk```\n",
    "\n",
    "Or by directly cloning it from their github repository (https://github.com/cltk/cltk) using the command line interface.\n",
    "```\n",
    "$ git clone https://github.com/cltk/cltk.git\n",
    "$ cd path_to_cltk_dir # (e.g. /user/cltk)\n",
    "$ make install\n",
    "```\n",
    "Note: Requires poetry. In case you have not installed the poetry package execute \n",
    "```$ pip install poetry```"
   ]
  },
  {
   "cell_type": "markdown",
   "id": "4a46e24f",
   "metadata": {},
   "source": [
    "Making some imports..."
   ]
  },
  {
   "cell_type": "code",
   "execution_count": 1,
   "id": "d6366a71",
   "metadata": {},
   "outputs": [],
   "source": [
    "from collections import Counter\n",
    "\n",
    "# Download and process corpora\n",
    "from cltk.data.fetch import FetchCorpus\n",
    "from cltk.core.data_types import Doc, Word\n",
    "from cltk.corpora.grc.tei import onekgreek_tei_xml_to_text\n",
    "\n",
    "# Sample texts\n",
    "from cltk.languages.example_texts import get_example_text\n",
    "\n",
    "# Text normalisation tools\n",
    "from cltk.alphabet.text_normalization import cltk_normalize\n",
    "from cltk.alphabet.lat import JVReplacer, LigatureReplacer, normalize_lat\n",
    "from cltk.alphabet.grc import expand_iota_subscript\n",
    "\n",
    "# Phonetics/Phonology\n",
    "from cltk.phonology.lat.phonology import LatinTranscription, LatinSyllabifier\n",
    "from cltk.phonology.grc.phonology import GreekTranscription # GreekSyllabifier not working?\n",
    "\n",
    "# Prosody (Scansion)\n",
    "from cltk.prosody.lat.hexameter_scanner import HexameterScanner\n",
    "from cltk.prosody.lat.metrical_validator import MetricalValidator\n",
    "from cltk.prosody.lat.macronizer import Macronizer\n",
    "from cltk.prosody.grc import Scansion\n",
    "\n",
    "# Sentence tokenisation\n",
    "from cltk.sentence.grc import GreekRegexSentenceTokenizer\n",
    "from cltk.sentence.lat import LatinPunktSentenceTokenizer\n",
    "\n",
    "# Word tokenisation\n",
    "from cltk.tokenizers.lat.lat import LatinWordTokenizer\n",
    "from cltk.tokenizers import GreekTokenizationProcess\n",
    "\n",
    "# Lemmatisation\n",
    "from cltk.lemmatize.lat import LatinBackoffLemmatizer\n",
    "from cltk.lemmatize.grc import GreekBackoffLemmatizer\n",
    "\n",
    "# Stemming\n",
    "from cltk.stem.lat import stem\n",
    "\n",
    "# POS tagging\n",
    "from cltk.tag.pos import POSTag\n",
    "\n",
    "# Named entity recognition\n",
    "from cltk.ner.ner import tag_ner\n",
    "\n",
    "# Stop words\n",
    "from cltk.stops.lat import STOPS as STOPS_lat\n",
    "from cltk.stops.grc import STOPS as STOPS_grc\n",
    "\n",
    "# Syntactic parsing\n",
    "from cltk.dependency.processes import StanzaProcess\n",
    "from cltk.dependency.tree import DependencyTree\n",
    "\n",
    "# Lexicon\n",
    "from cltk.lexicon.lat import LatinLewisLexicon\n",
    "\n",
    "# Decliner\n",
    "from cltk.morphology.lat import CollatinusDecliner"
   ]
  },
  {
   "cell_type": "markdown",
   "id": "a4c6b118",
   "metadata": {},
   "source": [
    "# Modules\n",
    "\n",
    "## Corpora\n",
    "How to check which corpora are available and how to download/clone them from the github repository:\n",
    "\n",
    "### Latin:"
   ]
  },
  {
   "cell_type": "code",
   "execution_count": 2,
   "id": "a4872763",
   "metadata": {},
   "outputs": [],
   "source": [
    "# Check for available corpora\n",
    "fetcher_lat = FetchCorpus('lat', testing=False)\n",
    "available_corpora_lat = fetcher_lat.list_corpora\n",
    "# print(available_corpora_lat)"
   ]
  },
  {
   "cell_type": "code",
   "execution_count": 3,
   "id": "c6842e65",
   "metadata": {},
   "outputs": [],
   "source": [
    "# Download corpora\n",
    "# fetcher_lat.import_corpus('lat_models_cltk')\n",
    "# fetcher_lat.import_corpus('lat_text_latin_library')"
   ]
  },
  {
   "cell_type": "markdown",
   "id": "30dd7f08",
   "metadata": {},
   "source": [
    "### Greek:"
   ]
  },
  {
   "cell_type": "code",
   "execution_count": 4,
   "id": "9662905e",
   "metadata": {},
   "outputs": [],
   "source": [
    "fetcher_grc = FetchCorpus('grc', testing=False)\n",
    "available_corpora_grc = fetcher_grc.list_corpora\n",
    "# print(available_corpora_grc)"
   ]
  },
  {
   "cell_type": "code",
   "execution_count": 5,
   "id": "3a62e66c",
   "metadata": {},
   "outputs": [],
   "source": [
    "# Download corpora\n",
    "# fetcher_grc.import_corpus('grc_models_cltk')\n",
    "# fetcher_grc.import_corpus('grc_text_first1kgreek')\n",
    "# onekgreek_tei_xml_to_text()"
   ]
  },
  {
   "cell_type": "markdown",
   "id": "fa0c2c95",
   "metadata": {},
   "source": [
    "## Load sample texts\n",
    "\n",
    "### Latin:\n",
    "Introduction to Ceasares Bellum Gallicum (translation available here: https://www.gottwein.de/Lat/caes/bg1001.php)"
   ]
  },
  {
   "cell_type": "code",
   "execution_count": 6,
   "id": "1b0f8129",
   "metadata": {},
   "outputs": [],
   "source": [
    "bellum_gallicum_ceasar = get_example_text('lat')\n",
    "# print(bellum_gallicum_ceasar)"
   ]
  },
  {
   "cell_type": "markdown",
   "id": "a98fdcc8",
   "metadata": {},
   "source": [
    "### Greek:\n",
    "Introduction to Platon's Apologie (17a-19a) (translation available here: https://www.gottwein.de/Grie/plat/apol17a.php)"
   ]
  },
  {
   "cell_type": "code",
   "execution_count": 7,
   "id": "6721bc2d",
   "metadata": {},
   "outputs": [],
   "source": [
    "apologia_platon = get_example_text('grc')\n",
    "# print(apologia_platon)"
   ]
  },
  {
   "cell_type": "markdown",
   "id": "fecc1c90",
   "metadata": {},
   "source": [
    "## Text normalisation:\n",
    "\n",
    "Let's now perform a little bit of text normalisation.\n",
    "\n",
    "### Latin:\n",
    "- **Latin aphabet:** Replace J/V with I/U. Latin alphabet does not distinguish between J/j and I/i and V/v and U/u; Yet, many texts bear the influence of later editors and the predilections of other languages. In practical terms, the JV substitution is recommended on all Latin text preprocessing; it helps to collapse the search space."
   ]
  },
  {
   "cell_type": "code",
   "execution_count": 8,
   "id": "d9b3fea9",
   "metadata": {},
   "outputs": [
    {
     "name": "stdout",
     "output_type": "stream",
     "text": [
      "In uino ueritas.\n"
     ]
    }
   ],
   "source": [
    "repl = JVReplacer()\n",
    "normalised_lat_sample = repl.replace('In vino veritas.')\n",
    "print(normalised_lat_sample)"
   ]
  },
  {
   "cell_type": "markdown",
   "id": "7292712e",
   "metadata": {},
   "source": [
    "- **Ligatures in Latin:** Replace ‘œæ’ with AE, ‘Œ Æ’ with OE. Classical Latin wrote the o and e separately (as has today again become the general practice), but the ligature was used by medieval and early modern writings, in part because the diphthongal sound had, by Late Latin, merged into the sound."
   ]
  },
  {
   "cell_type": "code",
   "execution_count": 9,
   "id": "3125066f",
   "metadata": {},
   "outputs": [
    {
     "name": "stdout",
     "output_type": "stream",
     "text": [
      "proeil\n"
     ]
    }
   ],
   "source": [
    "lig_repl = LigatureReplacer()\n",
    "normalised_lat_sample = lig_repl.replace(\"prœil\")\n",
    "print(normalised_lat_sample)"
   ]
  },
  {
   "cell_type": "markdown",
   "id": "39220955",
   "metadata": {},
   "source": [
    "- **normalize_lat()** performs all normalisation options at once"
   ]
  },
  {
   "cell_type": "code",
   "execution_count": 10,
   "id": "5d55eca1",
   "metadata": {},
   "outputs": [
    {
     "name": "stdout",
     "output_type": "stream",
     "text": [
      "canō Īuliī suspensam quăm aegerrume ĭndignu is óccidentem frúges Julius Caesar. In vino veritas. mæd prœil\n"
     ]
    }
   ],
   "source": [
    "norm_sample = \"canō Īuliī suspensám quăm aegérrume ĭndignu îs óccidentem frúges Julius Caesar. \" \\\n",
    "              \"In vino veritas. mæd prœil\"\n",
    "print(normalize_lat(norm_sample, drop_accents=True, drop_macrons=False,\n",
    "                    jv_replacement=False, ligature_replacement=False))      # all options set to False by default"
   ]
  },
  {
   "cell_type": "markdown",
   "id": "d8178cd6",
   "metadata": {},
   "source": [
    "Normalise the excerpt from Ceasare's Bellum Gallicum using the normalize_lat() function."
   ]
  },
  {
   "cell_type": "code",
   "execution_count": 11,
   "id": "83f9c1a1",
   "metadata": {},
   "outputs": [],
   "source": [
    "# Normalise bellum gallicum sample\n",
    "normalised_bg = normalize_lat(bellum_gallicum_ceasar, jv_replacement=True)"
   ]
  },
  {
   "cell_type": "markdown",
   "id": "d4d4c2d6",
   "metadata": {},
   "source": [
    "### Greek:\n",
    "Dealing with a different language and alphabets makes it necessary to perfom different types of normalisation. Thus with greek we have to pay attention to:\n",
    "- **Iota subscribtum:**"
   ]
  },
  {
   "cell_type": "code",
   "execution_count": 12,
   "id": "c9fc7762",
   "metadata": {},
   "outputs": [
    {
     "name": "stdout",
     "output_type": "stream",
     "text": [
      "ἐν τῆι νῦν ἑλλάδι καλεομένηι χωρῆι οὕτω δ᾽ εἶπε τεράιζων\n"
     ]
    }
   ],
   "source": [
    "str_iota_subscript = \"ἐν τῇ νῦν Ἑλλάδι καλεομένῃ χωρῇ οὕτω δ᾽ εἶπε τερᾴζων\"\n",
    "print(expand_iota_subscript(str_iota_subscript,\n",
    "                            lowercase=True))    # lowercase is True by default returns lowercase string"
   ]
  },
  {
   "cell_type": "markdown",
   "id": "a48dba59",
   "metadata": {},
   "source": [
    "- **Unicode encoding:** In some cases it might be relevant to consider encodings. Especially, when dealing with non-Ascii characters. The cltk_normalize() function from the unicodedata package which returns normal form 'form' for Unicode string unistr."
   ]
  },
  {
   "cell_type": "code",
   "execution_count": 13,
   "id": "c717a6ad",
   "metadata": {},
   "outputs": [
    {
     "name": "stdout",
     "output_type": "stream",
     "text": [
      "διοτρεφές\n"
     ]
    }
   ],
   "source": [
    "# Uniode normalisation\n",
    "word = cltk_normalize('διοτρεφές')\n",
    "print(word) # changes are not visible for us if we print the word"
   ]
  },
  {
   "cell_type": "markdown",
   "id": "df59cd81",
   "metadata": {},
   "source": [
    "Again we perform the above operations on our greek sample."
   ]
  },
  {
   "cell_type": "code",
   "execution_count": 14,
   "id": "e64c0385",
   "metadata": {},
   "outputs": [],
   "source": [
    "expanded_apol = expand_iota_subscript(apologia_platon, lowercase=False)\n",
    "normalised_apol = cltk_normalize(expanded_apol)"
   ]
  },
  {
   "cell_type": "markdown",
   "id": "c8388744",
   "metadata": {},
   "source": [
    "## Sentence Tokenisation\n",
    "\n",
    "### Latin:"
   ]
  },
  {
   "cell_type": "code",
   "execution_count": 15,
   "id": "f0369c7b",
   "metadata": {},
   "outputs": [
    {
     "name": "stdout",
     "output_type": "stream",
     "text": [
      "Gallia est omnis diuisa in partes tres, quarum unam incolunt Belgae, aliam Aquitani, tertiam qui ipsorum lingua Celtae, nostra Galli appellantur.\n"
     ]
    }
   ],
   "source": [
    "sent_tokeniser_lat = LatinPunktSentenceTokenizer()\n",
    "sentences_bg = sent_tokeniser_lat.tokenize(normalised_bg)\n",
    "print(sentences_bg[0])"
   ]
  },
  {
   "cell_type": "markdown",
   "id": "66630f31",
   "metadata": {},
   "source": [
    "### Greek:"
   ]
  },
  {
   "cell_type": "code",
   "execution_count": 16,
   "id": "5c121944",
   "metadata": {},
   "outputs": [
    {
     "name": "stdout",
     "output_type": "stream",
     "text": [
      "ὅτι μὲν ὑμεῖς, ὦ ἄνδρες Ἀθηναῖοι, πεπόνθατε ὑπὸ τῶν ἐμῶν κατηγόρων, οὐκ οἶδα: ἐγὼ δ ̓ οὖν καὶ αὐτὸς ὑπ ̓ αὐτῶν ὀλίγου ἐμαυτοῦ ἐπελαθόμην, οὕτω πιθανῶς ἔλεγον.\n"
     ]
    }
   ],
   "source": [
    "sent_tokeniser_grc = GreekRegexSentenceTokenizer()\n",
    "sentences_grc = sent_tokeniser_grc.tokenize(normalised_apol)\n",
    "print(sentences_grc[0])"
   ]
  },
  {
   "cell_type": "markdown",
   "id": "1b03a212",
   "metadata": {},
   "source": [
    "## Word Tokenisation\n",
    "\n",
    "### Latin:"
   ]
  },
  {
   "cell_type": "code",
   "execution_count": 17,
   "id": "ea87ed8b",
   "metadata": {},
   "outputs": [
    {
     "name": "stdout",
     "output_type": "stream",
     "text": [
      "['Gallia', 'est', 'omnis', 'diuisa', 'in', 'partes', 'tres', ',', 'quarum', 'unam']\n"
     ]
    }
   ],
   "source": [
    "tokeniser_lat = LatinWordTokenizer()\n",
    "tokens_bg = tokeniser_lat.tokenize(normalised_bg)\n",
    "print(tokens_bg[0:10])"
   ]
  },
  {
   "cell_type": "markdown",
   "id": "09d132b6",
   "metadata": {},
   "source": [
    "### Greek:"
   ]
  },
  {
   "cell_type": "code",
   "execution_count": 18,
   "id": "92a0a858",
   "metadata": {},
   "outputs": [
    {
     "name": "stdout",
     "output_type": "stream",
     "text": [
      "['ὅτι', 'μὲν', 'ὑμεῖς', ',', 'ὦ', 'ἄνδρες', 'Ἀθηναῖοι', ',', 'πεπόνθατε', 'ὑπὸ']\n"
     ]
    }
   ],
   "source": [
    "tokenizer_process = GreekTokenizationProcess()\n",
    "output_doc = tokenizer_process.run(input_doc=Doc(raw=normalised_apol))\n",
    "tokens_apol = output_doc.tokens\n",
    "print(tokens_apol[0:10])"
   ]
  },
  {
   "cell_type": "markdown",
   "id": "4f5b1cf1",
   "metadata": {},
   "source": [
    "## Lemmatisation:\n",
    "\n",
    "### Latin:"
   ]
  },
  {
   "cell_type": "code",
   "execution_count": 19,
   "id": "1af54cbe",
   "metadata": {},
   "outputs": [
    {
     "name": "stdout",
     "output_type": "stream",
     "text": [
      "[('Gallia', 'Gallia'), ('est', 'sum'), ('omnis', 'omnis'), ('diuisa', 'diuido'), ('in', 'in'), ('partes', 'pars'), ('tres', 'tres'), (',', 'punc'), ('quarum', 'qui'), ('unam', 'unus')]\n"
     ]
    }
   ],
   "source": [
    "lemmatiser_lat = LatinBackoffLemmatizer()     # needs a list input\n",
    "lemmatised_bg = lemmatiser_lat.lemmatize(tokens_bg)\n",
    "lemmas_bg = [lemma for token, lemma in lemmatised_bg]\n",
    "print(lemmatised_bg[0:10])"
   ]
  },
  {
   "cell_type": "markdown",
   "id": "d68dff22",
   "metadata": {},
   "source": [
    "### Greek:"
   ]
  },
  {
   "cell_type": "code",
   "execution_count": 20,
   "id": "9a252a81",
   "metadata": {},
   "outputs": [
    {
     "name": "stdout",
     "output_type": "stream",
     "text": [
      "[('ὅτι', 'ὅτι'), ('μὲν', 'μέν'), ('ὑμεῖς', 'σύ'), (',', 'punc'), ('ὦ', 'ὦ'), ('ἄνδρες', 'ἀνήρ'), ('Ἀθηναῖοι', 'Ἀθηναῖος'), (',', 'punc'), ('πεπόνθατε', 'πάσχω'), ('ὑπὸ', 'ὑπό')]\n"
     ]
    }
   ],
   "source": [
    "lemmatiser_grc = GreekBackoffLemmatizer()   # needs a list input\n",
    "lemmatised_apol = lemmatiser_grc.lemmatize(tokens_apol)\n",
    "lemmas_apol = [lemma for token, lemma in lemmatised_apol]\n",
    "print(lemmatised_apol[0:10])"
   ]
  },
  {
   "cell_type": "markdown",
   "id": "825a7d44",
   "metadata": {},
   "source": [
    "## Stemming\n",
    "\n",
    "### Latin:"
   ]
  },
  {
   "cell_type": "code",
   "execution_count": 21,
   "id": "b03624f6",
   "metadata": {},
   "outputs": [
    {
     "name": "stdout",
     "output_type": "stream",
     "text": [
      "['Gall', 'est', 'omn', 'diuis', 'in', 'part', 'tr', ',', 'quar', 'un', 'incolu', 'Belg', ',', 'ali', 'Aquitan', ',', 'terti', 'qui', 'ipsor', 'lingu', 'Celt', ',', 'nostr', 'Gall', 'appella', '.', 'H', 'omn', 'lingu', ',', 'institut', ',', 'leg', 'inter', 's', 'differu', '.', 'Gall', 'ab', 'Aquitan', 'Garumn', 'flumen', ',', '', 'Belg', 'Matron', 'et', 'Sequan', 'diuidi', '.', 'Hor', 'omni', 'fortissim', 'su', 'Belg', ',', 'proptere', 'quod', '', 'cult', 'atque', 'humanitat', 'prouinci', 'longissim', 'absu', ',', 'minim', '-', 'ad', 'e', 'mercator', 'saep', 'commea', 'atque', 'e', 'quae', 'ad', 'effeminand', 'anim', 'pertine', 'importa', ',', 'proxim', '-', 'su', 'German', ',', 'qui', 'trans', 'Rhen', 'incolu', ',', 'cum', 'qu', 'continente', 'bell', 'geru', '.', 'Qu', 'de', 'caus', 'Helueti', 'quoque', 'reliqu', 'Gall', 'uirtut', 'praecedu', ',', 'quod', 'fer', 'cotidian', 'proeli', 'cum', 'German', 'contendu', ',', 'cum', 'aut', 'su', 'fin', 'e', 'prohibe', 'aut', 'ips', 'in', 'eor', 'fin', 'bell', 'geru', '.', 'Eor', 'un', ',', 'par', ',', 'quam', 'Gall', 'obtiner', 'dict', 'est', ',', 'initi', 'capi', '', 'flumin', 'Rhodan', ',', 'contine', 'Garumn', 'flumin', ',', 'Ocean', ',', 'fin', 'Belgar', ',', 'attingi', 'etiam', 'ab', 'Sequan', 'et', 'Helueti', 'flumen', 'Rhen', ',', 'uergi', 'ad', 'septentrion', '.', 'Belg', 'ab', 'extrem', 'Galli', 'fin', 'ori', ',', 'pertine', 'ad', 'inferior', 'part', 'flumin', 'Rhen', ',', 'specta', 'in', 'septentrion', 'et', 'orient', 'sol', '.', 'Aquitan', '', 'Garumn', 'flumin', 'ad', 'Pyrenae', 'mont', 'et', 'e', 'part', 'Ocean', 'quae', 'est', 'ad', 'Hispani', 'pertine', ';', 'specta', 'inter', 'occas', 'sol', 'et', 'septentrion', '.']\n"
     ]
    }
   ],
   "source": [
    "# Get the stems for all tokens in Bellum Gallicum\n",
    "stemmed_tokens_bg = [stem(token) for token in tokens_bg]\n",
    "print(stemmed_tokens_bg[0:])\n",
    "\n",
    "# or: get the stems for the lemmas in Bellum Gallicum\n",
    "# stemmed_lemmas_bg = [stem(lemma) for lemma in lemmas_bg]\n",
    "# print(stemmed_lemmas_bg[0:10])"
   ]
  },
  {
   "cell_type": "markdown",
   "id": "407f3ac4",
   "metadata": {},
   "source": [
    "### Greek:"
   ]
  },
  {
   "cell_type": "code",
   "execution_count": 22,
   "id": "54388337",
   "metadata": {},
   "outputs": [],
   "source": [
    "# missing in action (at least currently)"
   ]
  },
  {
   "cell_type": "markdown",
   "id": "fe325548",
   "metadata": {},
   "source": [
    "## Stopwords\n",
    "For almost all languages we can find a list of stopwords. To, for example, get a rough estimation of howmany (unique) lexical items are in our text or the frequnecy of function words.\n",
    "\n",
    "### Latin:"
   ]
  },
  {
   "cell_type": "code",
   "execution_count": 23,
   "id": "ac577af6",
   "metadata": {},
   "outputs": [
    {
     "name": "stdout",
     "output_type": "stream",
     "text": [
      "Number of lexemes: 159\n",
      "Unique lexemes: {'bellum', 'obtineo', 'effemino', 'proelium', 'Gallus', 'exter', 'mercator', 'Oceanus', 'Horus', 'septentrio', 'prohibeo', 'Aquitanus', 'saepe', 'Hispania', 'Heluetiis', 'praecedo', 'quoque', 'importo', 'propior', 'contineo', 'sol', 'Rhenus', 'longus', 'vergo', '-que', 'lex', 'alius', 'Gallia', 'noster', 'occasus', 'initium', 'flumen', 'capio', 'Belgaris', 'Galli', 'Hi', 'cultus', 'diuido', 'Heluetii', 'humanitas', 'animus', 'attingo', 'fortis', 'Celtae', 'cum2', 'punc', 'Pyrenaeus', 'pertineo', 'Aquitania', 'con-meo', 'Garumna', 'appello', 'inferus', 'uirtus', 'differo', 'tres', 'prouincia', 'Germanus', 'contendo', 'paruus', 'fere', 'causa', 'Matrona2', 'mons', 'omnis', 'tertius', 'specto', 'finis', 'Sequanus', 'Eos', 'institus', 'cottidianus', 'orior', 'Qua', 'pars', 'incolo1', 'reliquus', 'Rhodanus', 'propterea', 'lingua', 'dico', 'gero1', 'Sequani', 'Belga', 'absum'}\n",
      "Number of unique lexemes: 85\n"
     ]
    }
   ],
   "source": [
    "# (Unique) lexical items\n",
    "lexemes_bg = [lemma for lemma in lemmas_bg if lemma not in STOPS_lat]\n",
    "print(f'Number of lexemes: {len(lexemes_bg)}')\n",
    "print(f'Unique lexemes: {set(lexemes_bg)}')\n",
    "print(f'Number of unique lexemes: {len(set(lexemes_bg))}')"
   ]
  },
  {
   "cell_type": "code",
   "execution_count": 24,
   "id": "4f5e399f",
   "metadata": {},
   "outputs": [
    {
     "name": "stdout",
     "output_type": "stream",
     "text": [
      "Frequency counts of function words: Counter({'qui': 8, 'ab': 7, 'ad': 6, 'sum': 5, 'et': 5, 'is': 5, 'in': 3, 'unus': 2, 'ipse': 2, 'inter': 2, 'atque': 2, 'aut': 2, 'sui': 1, 'trans': 1, 'de': 1, 'suus': 1, 'quam': 1, 'etiam': 1})\n"
     ]
    }
   ],
   "source": [
    "# Frequency count of stopwords\n",
    "func_words_bg = [lemma for lemma in lemmas_bg if lemma in STOPS_lat]\n",
    "func_words_bg_freq = Counter(func_words_bg)\n",
    "print(f'Frequency counts of function words: {func_words_bg_freq}')"
   ]
  },
  {
   "cell_type": "markdown",
   "id": "430553c4",
   "metadata": {},
   "source": [
    "### Greek:"
   ]
  },
  {
   "cell_type": "code",
   "execution_count": 25,
   "id": "d2fdc223",
   "metadata": {},
   "outputs": [
    {
     "name": "stdout",
     "output_type": "stream",
     "text": [
      "Number of lexemes: 287\n",
      "Unique lexemes: {'εὐλαβέομαι', 'μειρακίωΙ', 'μή', 'πιθανός', 'εἰρήκασιν.', 'σύ', 'αἰσχύνω', 'ἄλλως', 'δήπου', 'τραπεζόω', 'τῆΙ', 'προσέχω', 'ἐμαυτοῦ', 'ὀνόμασιν—πιστεύω', 'δ', 'συγγιγνώσκω', 'πλάσσω', 'εἰκῆΙ', 'μά', 'ἐξελέγχω', 'οὐδείς', 'τρέφω', 'ἑβδομήκοντα', 'γάρ', 'τρόπος', 'ψεύδω', 'ῥήμασί', 'ὥσπερ', 'λέξις', 'οὑτωσί.', 'ἡλικίαΙ', 'πρέπω', 'ξενόω', 'εἴη—αὐτὸ', 'εἷς', 'ἔθω', 'ἀρετή', 'ἐρῶ', 'ἀλλ', 'οἶδα', 'τῆΙδε', 'καλέω', 'ἐγώ', 'πᾶς', 'αὐτίκα', 'ῥήτωρ', 'θαυμάζω', 'μηδ', 'ἐπιλανθάνομαι', 'μήτε', 'καί', 'ἐπιτυγχάνω', 'ἴσως', 'ἕνεκα.', 'βελτίων', 'ἀναίσχυντος', 'οὐδέ', 'αὐτός', 'διά', 'δίκαιος', 'ἔχω', 'δι', 'ὁμολογέω', 'ἄλλοθι', 'ἀγορᾶΙ', 'ἐμός', 'προσδοκάω', 'punc', 'ἀπολογέομαι', 'φαίνω', 'ἔτος', 'καίτοι', 'λόγος', 'κατά', 'τυγχάνω', 'ἐπειδάν', 'νῦν', 'θορυβέω', 'λέγειν.', 'εἰμί', 'ἀκούητέ', 'ἐᾶν—ἴσως', 'μάλιστα', 'λέγω', 'ἄτεχνος', 'ἐνθάδε', 'δοκέω', 'ὀλίγος', 'ὧΙ', 'ἀλήθειαν—οὐ', 'Ζεύς', 'ἀνήρ', 'δέομαι', 'ῥήτωρ.', 'ὑπό', 'ξένος', 'ἀνά', 'χείρων', 'γίγνομαι', 'εἰσιέναι.', 'πάσχω', 'ἔργωΙ', 'μέν', 'κοσμέω', 'πάνυ', 'σκοπέω', 'ὁπωσοῦν', 'δικαστήριον', '̓', 'δέ', 'ἔλεγον.', 'λέξεως.', 'Ἀθηναῖος', 'κατήγορος', 'ἐξαπατάω', 'ἀναβαίνω', 'ἵνα', 'μηδείς', 'εἶπον', 'δή', 'ἀληθής', 'καλλιεπέομαι', 'ἐκείνηΙ', 'πολύς', 'τρόπωΙ', 'φωνῆΙ', 'χρή', 'νόος', 'τῶΙ', 'δεινός', 'δικαστής', 'ἀκούω', 'μέντοι', 'τούτωΙ', 'ὄνομα', 'πρῶτος', 'λέγω—καὶ', 'ἐπί', 'παρίημι', 'ἐάν', 'ἔπος'}\n",
      "Number of unique lexemes: 141\n"
     ]
    }
   ],
   "source": [
    "# (Unique) lexical items\n",
    "lexemes_grc = [lemma for lemma in lemmas_apol if lemma not in STOPS_grc]\n",
    "print(f'Number of lexemes: {len(lexemes_grc)}')\n",
    "print(f'Unique lexemes: {set(lexemes_grc)}')\n",
    "print(f'Number of unique lexemes: {len(set(lexemes_grc))}')"
   ]
  },
  {
   "cell_type": "code",
   "execution_count": 26,
   "id": "ffddc16c",
   "metadata": {},
   "outputs": [
    {
     "name": "stdout",
     "output_type": "stream",
     "text": [
      "Frequency counts of function words: Counter({'ὁ': 13, 'οὗτος': 12, 'εἰ': 5, 'ὦ': 4, 'οὖν': 4, 'ὡς': 4, 'ὅς': 4, 'ἐν': 4, 'γε': 3, 'ἄν': 3, 'ἤ': 3, 'ὅτι': 2, 'οὐ': 2, 'τε': 2, 'οὕτως': 1, 'ἄρα': 1, 'τις': 1, 'εἰς': 1})\n"
     ]
    }
   ],
   "source": [
    "# Frequnecy of function words\n",
    "func_words_apol = [lemma for lemma in lemmas_apol if lemma in STOPS_grc]\n",
    "func_words_apol_freq = Counter(func_words_apol)\n",
    "print(f'Frequency counts of function words: {func_words_apol_freq}')"
   ]
  },
  {
   "cell_type": "markdown",
   "id": "4aa94ed7",
   "metadata": {},
   "source": [
    "## POS tagging :\n",
    "There are multiple taggers available for both Latin and Greek. I choose the 'tag_ngram_123_backoff' tagger for demonstration purposes.\n",
    "\n",
    "### Latin:"
   ]
  },
  {
   "cell_type": "code",
   "execution_count": 27,
   "id": "2be922b3",
   "metadata": {},
   "outputs": [
    {
     "name": "stdout",
     "output_type": "stream",
     "text": [
      "[('Gallia', None), ('est', 'V3SPIA---'), ('omnis', 'A-S---MN-'), ('diuisa', None), ('in', 'R--------'), ('partes', 'N-P---FA-'), ('tres', 'M--------'), (',', 'U--------'), ('quarum', 'P-P---FG-'), ('unam', 'A-S---FA-')]\n"
     ]
    }
   ],
   "source": [
    "pos_tagger_lat = POSTag('lat')\n",
    "tagged_bg = pos_tagger_lat.tag_ngram_123_backoff(normalised_bg)\n",
    "print(tagged_bg[0:10])"
   ]
  },
  {
   "cell_type": "markdown",
   "id": "357680b4",
   "metadata": {},
   "source": [
    "### Greek:"
   ]
  },
  {
   "cell_type": "code",
   "execution_count": 28,
   "id": "a5ba641d",
   "metadata": {},
   "outputs": [
    {
     "name": "stdout",
     "output_type": "stream",
     "text": [
      "[('ὅτι', 'C--------'), ('μὲν', 'G--------'), ('ὑμεῖς', 'P-P----N-'), (',', 'U--------'), ('ὦ', 'E--------'), ('ἄνδρες', 'N-P---MN-'), ('Ἀθηναῖοι', None), (',', 'U--------'), ('πεπόνθατε', None), ('ὑπὸ', 'R--------')]\n"
     ]
    }
   ],
   "source": [
    "pos_tagger_lat = POSTag('grc')\n",
    "tagged_apol = pos_tagger_lat.tag_ngram_123_backoff(normalised_apol)\n",
    "print(tagged_apol[0:10])"
   ]
  },
  {
   "cell_type": "markdown",
   "id": "94f780fb",
   "metadata": {},
   "source": [
    "## Named Entity Recognition (NER):\n",
    "\n",
    "If we are intersted if our text contains informaiton about locations, persons, etc. We can make use of the named entity tagging module. The function tag_ner() which requires information about the language will return a mask consisting of tags (such as 'LOCATION') and if there is no tag available 'FALSE'.\n",
    "\n",
    "### Latin:\n",
    "Using our Bellum Gallicum snippet, we get the following results."
   ]
  },
  {
   "cell_type": "code",
   "execution_count": 29,
   "id": "0e85871d",
   "metadata": {},
   "outputs": [
    {
     "name": "stdout",
     "output_type": "stream",
     "text": [
      "Identified NEs:\n",
      "[('Gallia', 'LOCATION'), ('Belgae', 'LOCATION'), ('Aquitani', 'LOCATION'), ('Celtae', 'LOCATION'), ('Galli', 'LOCATION'), ('Belgae', 'LOCATION'), ('Heluetii', 'PERSON'), ('Rhodano', 'LOCATION'), ('Oceano', 'LOCATION'), ('Belgae', 'LOCATION'), ('Galliae', 'LOCATION'), ('Aquitania', 'LOCATION'), ('Oceani', 'LOCATION')]\n"
     ]
    }
   ],
   "source": [
    "ner_lat = tag_ner(iso_code='lat', input_tokens=tokens_bg) # returns a mask that tells you if a token is a NE or not\n",
    "\n",
    "# print(f'Mask:\\n{ner_lat}\\n')\n",
    "print(f'Identified NEs:\\n{[(token, mask_val) for token, mask_val in list(zip(tokens_bg, ner_lat)) if mask_val]}')"
   ]
  },
  {
   "cell_type": "markdown",
   "id": "9ed09adf",
   "metadata": {},
   "source": [
    "### Greek:\n",
    "Doing the same with our greek Apologia sample text only returns one NE:"
   ]
  },
  {
   "cell_type": "code",
   "execution_count": 30,
   "id": "90345972",
   "metadata": {},
   "outputs": [
    {
     "name": "stdout",
     "output_type": "stream",
     "text": [
      "Identified NEs:\n",
      "[('Ἀθηναῖοι', 'LOCATION')]\n"
     ]
    }
   ],
   "source": [
    "ner_grc = tag_ner(iso_code='grc', input_tokens=tokens_apol)\n",
    "\n",
    "# print(f'Mask:\\n{ner_grc}\\n')\n",
    "print(f'Identified NEs:\\n{[(token, mask_val) for token, mask_val in list(zip(tokens_apol, ner_grc)) if mask_val]}')"
   ]
  },
  {
   "cell_type": "markdown",
   "id": "6a02814b",
   "metadata": {},
   "source": [
    "## Syntactic parsing\n",
    "For the syntactic parsing CLTK calls on available Stanza models.\n",
    "Note: To execute the next cells you will need to install Stanza."
   ]
  },
  {
   "cell_type": "code",
   "execution_count": 31,
   "id": "0e186401",
   "metadata": {},
   "outputs": [],
   "source": [
    "# Uncomment next line in case you don't have stanza installed\n",
    "# !pip install stanza"
   ]
  },
  {
   "cell_type": "markdown",
   "id": "9c35b037",
   "metadata": {},
   "source": [
    "### Latin:"
   ]
  },
  {
   "cell_type": "code",
   "execution_count": 32,
   "id": "1c7b7d2b",
   "metadata": {},
   "outputs": [],
   "source": [
    "process_stanza_lat = StanzaProcess(language=\"lat\")\n",
    "stanza_out_bg = process_stanza_lat.run(Doc(raw=normalised_bg))"
   ]
  },
  {
   "cell_type": "code",
   "execution_count": 33,
   "id": "c8542e70",
   "metadata": {},
   "outputs": [
    {
     "name": "stdout",
     "output_type": "stream",
     "text": [
      "Word(index_char_start=None, index_char_stop=None, index_token=0, index_sentence=0, string='Gallia', pos=noun, lemma='mallis', stem=None, scansion=None, xpos='A1|grn1|casA|gen2', upos='NOUN', dependency_relation='nsubj', governor=3, features={Case: [nominative], Degree: [positive], Gender: [feminine], Number: [singular]}, category={F: [neg], N: [pos], V: [neg]}, stop=None, named_entity=None, syllables=None, phonetic_transcription=None, definition=None)\n"
     ]
    }
   ],
   "source": [
    "# We can now either decide to extract features of the individual words in our text...\n",
    "words_bg = stanza_out_bg.words\n",
    "isinstance(words_bg[0], Word)\n",
    "print(words_bg[0])"
   ]
  },
  {
   "cell_type": "code",
   "execution_count": 34,
   "id": "69b3c02b",
   "metadata": {},
   "outputs": [
    {
     "name": "stdout",
     "output_type": "stream",
     "text": [
      "root | diuisa_3/verb\n",
      "    └─ nsubj | Gallia_0/noun\n",
      "        └─ det | omnis_2/pronoun\n",
      "    └─ cop | est_1/auxiliary\n",
      "    └─ obl:arg | partes_5/noun\n",
      "        └─ case | in_4/adposition\n",
      "        └─ nummod | tres_6/numeral\n",
      "        └─ acl:relcl | incolunt_10/verb\n",
      "            └─ punct | ,_7/punctuation\n",
      "            └─ obj | unam_9/numeral\n",
      "                └─ nmod | quarum_8/pronoun\n",
      "            └─ nsubj | Belgae_11/noun\n",
      "                └─ nmod | Aquitani_14/noun\n",
      "                    └─ punct | ,_12/punctuation\n",
      "                    └─ acl:relcl | Celtae_20/adjective\n",
      "                        └─ nsubj | qui_17/pronoun\n",
      "                        └─ obl | lingua_19/noun\n",
      "                            └─ nmod | ipsorum_18/pronoun\n",
      "                        └─ punct | ,_21/punctuation\n",
      "        └─ acl:relcl | appellantur_24/verb\n",
      "            └─ obj | aliam_13/pronoun\n",
      "                └─ amod | tertiam_16/adjective\n",
      "            └─ punct | ,_15/punctuation\n",
      "            └─ xcomp | Galli_23/adjective\n",
      "                └─ amod | nostra_22/adjective\n",
      "    └─ punct | ._25/punctuation\n"
     ]
    }
   ],
   "source": [
    "# ... or decide to print a dependency tree\n",
    "sentences_stanza_bg = stanza_out_bg.sentences\n",
    "t0_bg = DependencyTree.to_tree(sentences_stanza_bg[0])\n",
    "t0_bg.print_tree()"
   ]
  },
  {
   "cell_type": "markdown",
   "id": "4bf51624",
   "metadata": {},
   "source": [
    "### Greek:"
   ]
  },
  {
   "cell_type": "code",
   "execution_count": 35,
   "id": "91971f21",
   "metadata": {},
   "outputs": [],
   "source": [
    "process_stanza_grc = StanzaProcess(language=\"grc\")\n",
    "stanza_out_bg = process_stanza_grc.run(Doc(raw=normalised_apol))"
   ]
  },
  {
   "cell_type": "code",
   "execution_count": 36,
   "id": "50511b20",
   "metadata": {},
   "outputs": [
    {
     "name": "stdout",
     "output_type": "stream",
     "text": [
      "Word(index_char_start=None, index_char_stop=None, index_token=0, index_sentence=0, string='ὅτι', pos=adverb, lemma='ὅτι', stem=None, scansion=None, xpos='Df', upos='ADV', dependency_relation='advmod', governor=6, features={}, category={F: [neg], N: [pos], V: [pos]}, stop=None, named_entity=None, syllables=None, phonetic_transcription=None, definition=None)\n"
     ]
    }
   ],
   "source": [
    "words_apol = stanza_out_bg.words\n",
    "isinstance(words_apol[0], Word)\n",
    "print(words_apol[0])"
   ]
  },
  {
   "cell_type": "code",
   "execution_count": 37,
   "id": "960e6a87",
   "metadata": {},
   "outputs": [
    {
     "name": "stdout",
     "output_type": "stream",
     "text": [
      "root | πεπόνθατε_6/verb\n",
      "    └─ advmod | ὅτι_0/adverb\n",
      "    └─ discourse | μὲν_1/adverb\n",
      "    └─ advmod | ὑμεῖς,_2/adverb\n",
      "    └─ vocative | ἄνδρες_4/noun\n",
      "        └─ discourse | ὦ_3/interjection\n",
      "    └─ iobj | Ἀθηναῖοι,_5/adjective\n",
      "    └─ conj | οἶδα:_12/verb\n",
      "        └─ obl | κατηγόρων,_10/noun\n",
      "            └─ case | ὑπὸ_7/adposition\n",
      "            └─ det | τῶν_8/determiner\n",
      "            └─ nmod | ἐμῶν_9/adjective\n",
      "        └─ advmod | οὐκ_11/adverb\n"
     ]
    }
   ],
   "source": [
    "sentences_stanza_apol = stanza_out_bg.sentences\n",
    "t0_apol = DependencyTree.to_tree(sentences_stanza_apol[0])\n",
    "t0_apol.print_tree()"
   ]
  },
  {
   "cell_type": "markdown",
   "id": "fd774628",
   "metadata": {},
   "source": [
    "## Phonology\n",
    "Opposed to a modern spoken language, we can not simply look for videos or listen to radio podcasts to get an impression on the pronunciation. It get's even worse if are unable to read a text because we can not read the script that was used. Therefore, the phonology (and prosody) sections show us which tools we could use to aid us.\n",
    "\n",
    "### Latin:\n",
    "- **Transcription:**"
   ]
  },
  {
   "cell_type": "code",
   "execution_count": 38,
   "id": "4db9f0c2",
   "metadata": {},
   "outputs": [],
   "source": [
    "transcriber_lat = LatinTranscription()\n",
    "# print(transcriber_lat.transcribe('veritas'))\n",
    "# print('\\n')\n",
    "\n",
    "# Full sample text\n",
    "transcribed_bg = transcriber_lat.transcribe(normalised_bg)\n",
    "# print(transcribed_bg)"
   ]
  },
  {
   "cell_type": "markdown",
   "id": "0659b65c",
   "metadata": {},
   "source": [
    "- **Syllabification:**"
   ]
  },
  {
   "cell_type": "code",
   "execution_count": 39,
   "id": "cc40405c",
   "metadata": {},
   "outputs": [],
   "source": [
    "syllabifier_lat = LatinSyllabifier()\n",
    "# print(syllabifier_lat.syllabify('veritas'))"
   ]
  },
  {
   "cell_type": "code",
   "execution_count": 40,
   "id": "905655cc",
   "metadata": {},
   "outputs": [],
   "source": [
    "# We can see that this function is ment for single word strings...\n",
    "# Full sample text\n",
    "syllabified_bg = syllabifier_lat.syllabify(normalised_bg)\n",
    "# print(syllabified_bg[0:10])"
   ]
  },
  {
   "cell_type": "code",
   "execution_count": 41,
   "id": "7c0dcc7d",
   "metadata": {},
   "outputs": [],
   "source": [
    "# Thus, we would have to iterate over each word:\n",
    "# Full sample text\n",
    "syllabified_bg = [syllabifier_lat.syllabify(token) for token in tokens_bg]\n",
    "# print(syllabified_bg[0:5])"
   ]
  },
  {
   "cell_type": "markdown",
   "id": "dce1471d",
   "metadata": {},
   "source": [
    "### Greek:\n",
    "- **Transcription:**"
   ]
  },
  {
   "cell_type": "code",
   "execution_count": 42,
   "id": "6c9340b0",
   "metadata": {},
   "outputs": [],
   "source": [
    "transcriber_grc = GreekTranscription()\n",
    "# print(transcriber_grc.transcribe(word))\n",
    "# print(transcriber_grc.transcribe(normalised_apol))"
   ]
  },
  {
   "cell_type": "markdown",
   "id": "42d35626",
   "metadata": {},
   "source": [
    "- **Syllabification:**"
   ]
  },
  {
   "cell_type": "code",
   "execution_count": 43,
   "id": "983e9d11",
   "metadata": {},
   "outputs": [],
   "source": [
    "### Appears to be not working correctly, but we can get it through the Prosody module (see below)"
   ]
  },
  {
   "cell_type": "markdown",
   "id": "19d7ab65",
   "metadata": {},
   "source": [
    "## Prosody\n",
    "\n",
    "### Latin:\n",
    "The Latin module for prosody is well developed. It contains some classes which will analyse or verify the metric of a text string (e.g., ```HexameterScanner()``` and ```MetricalValidator()```). We can also find something called "
   ]
  },
  {
   "cell_type": "code",
   "execution_count": 44,
   "id": "0d76a8d2",
   "metadata": {},
   "outputs": [],
   "source": [
    "# Excerpt from the Pro Vergils Aeneis which is writen as hexameters:\n",
    "# - -uu | -uu | -uu | -uu | -uu | -x (each foot can be replaced with -- alternatively)\n",
    "aeneis = [\"Arma virumque cano, Troiae qui primus ab oris \",\n",
    "         \"Italiam, fato profugus, Laviniaque venit \",\n",
    "         \"litora, multum ille et terris iactatus et alto \",\n",
    "         \"vi superum saevae memorem Iunonis ob iram; \",\n",
    "         \"Multa quoque et bello passus, dum conderet urbem, \",\n",
    "         \"inferretque deos Latio, genus unde Latinum, \",\n",
    "         \"Albanique patres, atque altae moenia Romae.\"]\n",
    "\n",
    "# Compute the scansion pattern\n",
    "hexameter_scan = HexameterScanner()\n",
    "aeneis_hexa = []\n",
    "for line in aeneis:\n",
    "        hexa = hexameter_scan.scan(line)\n",
    "        aeneis_hexa.append(hexa)\n",
    "        # print(line)\n",
    "        # print(hexa.scansion)"
   ]
  },
  {
   "cell_type": "markdown",
   "id": "2e17131b",
   "metadata": {},
   "source": [
    "As we might see from the above print statement, the HexameterScanner() does not work perfectly (yet). We can optionally use the MetricValidator() to demonstrate this."
   ]
  },
  {
   "cell_type": "code",
   "execution_count": 45,
   "id": "436b024b",
   "metadata": {},
   "outputs": [],
   "source": [
    "metric_veri = MetricalValidator()\n",
    "# for hexa in aeneis_hexa:\n",
    "#         print(metric_veri.is_valid_hexameter(hexa.scansion))"
   ]
  },
  {
   "cell_type": "markdown",
   "id": "fa906c69",
   "metadata": {},
   "source": [
    "We can also find something called ```Macronizer()``` which  places a macron over naturally long Latin vowels."
   ]
  },
  {
   "cell_type": "code",
   "execution_count": 46,
   "id": "e81003af",
   "metadata": {},
   "outputs": [
    {
     "name": "stdout",
     "output_type": "stream",
     "text": [
      "arma virumque cano , trojae quī prīmus ab ōrīs i_taliam , fato profugus , laviniaque venit lītora , multum ille et terrīs iactatus et altō vī superum saevae memorem jūnōnis ob īram ; multa quoque et bellō passūs , dum conderet urbem , inferretque deōs lātiō , genus unde latinum , albanique patrēs , atque altae moenia Rōmae .\n"
     ]
    }
   ],
   "source": [
    "macroniser = Macronizer('tag_ngram_123_backoff')\n",
    "\n",
    "# return only the macronised text\n",
    "print(macroniser.macronize_text(' '.join(aeneis)))\n",
    "\n",
    "# return each word with its POS tag and its macronised form\n",
    "# print(macroniser.macronize_tags(' '.join(aeneis)))"
   ]
  },
  {
   "cell_type": "markdown",
   "id": "353ada78",
   "metadata": {},
   "source": [
    "### Greek:\n",
    "For Greek only scansion is available, i.e. it will mark long and short syllables but not take into account the metrics of a text. This becomes clear when we look at the first seven lines in the Ilias. The next code cell will break down the scansion process for greek."
   ]
  },
  {
   "cell_type": "code",
   "execution_count": 47,
   "id": "63b0d877",
   "metadata": {},
   "outputs": [],
   "source": [
    "ilias = \"μῆνιν ἄειδε θεὰ Πηληϊάδεω Ἀχιλῆος \" \\\n",
    "        \"οὐλομένην, ἣ μυρί᾽ Ἀχαιοῖς ἄλγε᾽ ἔθηκε, \" \\\n",
    "        \"πολλὰς δ᾽ ἰφθίμους ψυχὰς Ἄϊδι προΐαψεν \" \\\n",
    "        \"ἡρώων, αὐτοὺς δὲ ἑλώρια τεῦχε κύνεσσιν \" \\\n",
    "        \"οἰωνοῖσί τε πᾶσι, Διὸς δ᾽ ἐτελείετο βουλή, \" \\\n",
    "        \"ἐξ οὗ δὴ τὰ πρῶτα διαστήτην ἐρίσαντε \" \\\n",
    "        \"Ἀτρεΐδης τε ἄναξ ἀνδρῶν καὶ δῖος Ἀχιλλεύς.\"\n",
    "scanner_grc = Scansion()\n",
    "\n",
    "# After some iniital cleaning and tokenisation of the text, we can extract the syllables.\n",
    "scanned_syl_ilias = [syllable for word in scanner_grc._make_syllables(ilias)[0] for syllable in word]\n",
    "\n",
    "# Using the output from the _make_syllables() function we are now able to perfom the scansion:\n",
    "scansion_syl_ilias = scanner_grc._scansion([scanned_syl_ilias])\n",
    "\n",
    "# Here we can see which syllable was marked as long and which one as short.\n",
    "# print(list(zip(scanned_syl_ilias, list(scansion_syl_ilias[0]))))\n",
    "\n",
    "# Note: The scansion does not reflect the dactylic hexameter used by Homer which would typically be:\n",
    "#            -uu | -uu | -- | -uu | -uu | --\n",
    "#       for each of the lines in the excerpt."
   ]
  },
  {
   "cell_type": "code",
   "execution_count": 48,
   "id": "30c857a2",
   "metadata": {},
   "outputs": [
    {
     "name": "stdout",
     "output_type": "stream",
     "text": [
      "['¯˘˘¯˘˘˘¯¯˘˘¯˘˘¯˘¯˘˘¯¯˘˘˘¯¯˘˘˘¯˘˘˘¯˘¯˘˘˘˘˘¯˘¯¯¯¯¯˘˘¯˘˘¯˘˘¯˘¯¯¯˘˘¯˘˘˘˘˘¯˘˘¯¯˘¯¯˘¯˘˘˘¯¯˘˘¯˘˘˘¯˘˘˘˘¯¯¯˘˘˘x']\n"
     ]
    }
   ],
   "source": [
    "# Execute scansion using the scan_text() function\n",
    "print(scanner_grc.scan_text(ilias))"
   ]
  },
  {
   "cell_type": "markdown",
   "id": "ca6961c4",
   "metadata": {},
   "source": [
    "## Lexicon\n",
    "\n",
    "For some laguages, we are able to look up a lemma in a lexicon.\n",
    "\n",
    "### Latin:\n",
    "For latin, CLTK accesses a digital form of Charlton T. Lewis’s An Elementary Latin Dictionary (1890) to match a lemma against the headwords of an entry. If more than one match is found, then it returns the concatenated entries."
   ]
  },
  {
   "cell_type": "code",
   "execution_count": 49,
   "id": "1f27b739",
   "metadata": {},
   "outputs": [
    {
     "name": "stdout",
     "output_type": "stream",
     "text": [
      "sum\n",
      "\n",
      " (2d pers. es, or old ēs; old subj praes. siem,\n",
      "            siēs, siet, sient, for sim, etc., T.; fuat for sit, T., V., L.;\n",
      "            imperf. often forem, forēs, foret, forent, for essem, etc.;\n",
      "                fut. escunt for erunt, C.), fuī (fūvimus for\n",
      "            fuimus, Enn. ap. C.), futūrus (inf fut. fore or futūrum\n",
      "            esse, C.), esse \n",
      "ES-; FEV-. —\n",
      "I. As a predicate, asserting existence, \n",
      "to be, exist, live\n",
      ": ut id aut esse dicamus aut non esse: flumen est Arar,\n",
      "            quod, etc., Cs.: homo nequissimus omnium qui\n",
      "                sunt, qui fuerunt: arbitrari, me nusquam aut nullum fore: fuimus Troes, fuit\n",
      "            Ilium, V.—Of place, \n",
      "to be, be present, be found, stay, live\n",
      ": cum non liceret Romae quemquam esse: cum essemus in\n",
      "                castris: deinceps in lege est, ut, etc.: erat nemo, quicum essem libentius\n",
      "            quam tecum: sub uno tecto esse, L.—Of circumstances or condition, \n",
      "to be, be found, be situated, be placed\n",
      ": Sive erit in Tyriis, Tyrios laudabis\n",
      "            amictūs, i. e. \n",
      "is attired\n",
      ", O.: in servitute: in magno nomine et\n",
      "                gloriā: in vitio: Hic in noxiāst, T.:\n",
      "                in pace, L.: (statua) est\n",
      "                et fuit totā Graeciā summo honore: ego sum spe bonā:\n",
      "                rem illam suo periculo esse, \n",
      "at his own risk\n",
      ": omnem reliquam spem in impetu esse equitum,\n",
      "                L.—In 3\n",
      "d pers\n",
      "., followed by a pron\n",
      "\n",
      "rel., there is\n",
      " (that) \n",
      "which, there are\n",
      " (persons) \n",
      "who, there are\n",
      " (things) \n",
      "which, some\n",
      ".—With indic. (the subject conceived as definite): est\n",
      "            quod me transire oportet, \n",
      "there is a\n",
      " (certain) \n",
      "reason why I must\n",
      ", etc., T.: sunt item quae appellantur\n",
      "            alces, \n",
      "there are creatures also, which\n",
      ", etc., Cs.: sunt qui putant posse te non\n",
      "            decedere, \n",
      "some think\n",
      ": Sunt quibus in satirā videor nimis\n",
      "            acer, H.—With subj. (so usu. in prose, and\n",
      "            always with a subject conceived as indefinite): sunt, qui putent esse mortem . . . sunt\n",
      "            qui censeant, etc.: est isdem de rebus quod dici possit subtilius: sunt qui Crustis et\n",
      "            pomis viduas venentur avaras, H.—With dat, \n",
      "to belong, pertain, be possessed, be ascribed\n",
      ": fingeret fallacias, Unde esset adulescenti amicae quod\n",
      "                daret, \n",
      "by which the youth might have something to give\n",
      ", T.: est igitur homini cum deo\n",
      "            similitudo, \n",
      "man has some resemblance\n",
      ": Privatus illis census erat brevis, H.:\n",
      "                Troia et huic loco nomen est,\n",
      "            L.—Ellipt.: Nec rubor est emisse palam (sc. ei), \n",
      "nor is she ashamed\n",
      ", O.: Neque testimoni dictio est (sc.\n",
      "            servo), \n",
      "has no right to be a witness\n",
      ", T.—With \n",
      "cum\n",
      " and abl\n",
      "\n",
      "of person, to have to do with, be connected with\n",
      ": tecum nihil rei nobis est, \n",
      "we have nothing to do with you\n",
      ", T.: si mihi tecum minus esset, quam est cum tuis\n",
      "                omnibus.—With \n",
      "ab\n",
      " and abl\n",
      "\n",
      "of person, to be of, be the servant of, follow, adhere to, favor, side with\n",
      ": Ab Andriā est ancilla haec,\n",
      "            T.: sed vide ne hoc, Scaevola, totum sit a me, \n",
      "makes for me\n",
      ".— With \n",
      "pro, to be in favor of, make for\n",
      ": (iudicia) partim nihil contra Habitum valere,\n",
      "            partim etiam pro hoc esse.—With \n",
      "ex, to consist of, be made up of\n",
      ": (creticus) qui est ex longā et brevi et\n",
      "                longā: duo extremi chorei sunt, id est, e singulis longis et brevibus.—\n",
      "To be real, be true, be a fact, be the case, be so\n",
      ": sunt ista, Laeli: est ut dicis, inquam: verum\n",
      "            esto: esto, \n",
      "granted\n",
      ", V.—Esp. in phrases, est ut, \n",
      "it is the case that, is true that, is possible that, there is reason for\n",
      ": sin est, ut velis Manere illam apud te,\n",
      "            T.: est, ut id maxime deceat: futurum esse ut omnes\n",
      "                pellerentur, Cs.: magis est ut\n",
      "            ipse moleste ferat errasse se, quam ut reformidet, etc., i. e. \n",
      "he has more reason for being troubled . . . than for dreading\n",
      ", etc.: ille erat ut odisset defensorem, etc., \n",
      "he certainly did hate\n",
      ".—In eo esse ut, etc., \n",
      "to be in a condition to, be possible that, be about to, be on the point of\n",
      " (\n",
      "impers\n",
      ". or with indef\n",
      "\n",
      "subj\n",
      ".): cum iam in eo esset, ut in muros evaderet miles, \n",
      "when the soldiers were on the point of scaling\n",
      ", L.: cum res non in eo essent ut, etc.,\n",
      "                L.—Est ubi, \n",
      "there is a time when, sometimes\n",
      ": est, ubi id isto modo valeat.—Est quod, \n",
      "there is reason to, is occasion to\n",
      ": etsi magis est, quod gratuler tibi, quam quod te\n",
      "            rogem, \n",
      "I have more reason to\n",
      ": est quod referam ad consilium: sin, etc.,\n",
      "            L.: non est quod multa loquamur,\n",
      "            H.—Est cur, \n",
      "there is reason why\n",
      ": quid erat cur Milo optaret, etc., \n",
      "what cause had Milo for wishing?\n",
      " etc.—With inf, \n",
      "it is possible, is allowed, is permitted, one may\n",
      ": Est quādam prodire tenus, si non datur\n",
      "            ultra, H.: scire est liberum Ingenium atque\n",
      "                animum, T.: neque est te fallere\n",
      "            quicquam, V.: quae verbo obiecta, verbo negare\n",
      "                sit, L.: est videre argentea vasa,\n",
      "                Ta.: fuerit mihi eguisse aliquando tuae\n",
      "            amicitiae, S.—Of events, \n",
      "to be, happen, occur, befall, take place\n",
      ": illa (solis defectio) quae fuit regnante Romulo: Amabo,\n",
      "                quid tibi est?\n",
      "T.: quid, si . . . futurum nobis est? L.—\n",
      "To come, fall, reach, be brought, have arrived\n",
      ": ex eo tempore res esse in vadimonium coepit: quae ne in\n",
      "                potestatem quidem populi\n",
      "R. esset, L.—\n",
      "II. As a copula, \n",
      "to be\n",
      ": et praeclara res est et sumus otiosi: non sum ita hebes, ut\n",
      "                istud dicam: Nos numerus sumus, \n",
      "a mere number\n",
      ", H.: sic, inquit, est: est ut dicis: frustra id\n",
      "                inceptum Volscis fuit, L.: cum in convivio\n",
      "                comiter et iucunde fuisses: quod in maritimis facillime sum, \n",
      "am very glad to be\n",
      ".—With gen\n",
      "\n",
      "part., to be of, belong to\n",
      ": qui eiusdem civitatis fuit, N.:\n",
      "                qui Romanae partis erant, L.: ut aut amicorum aut inimicorum Campani simus,\n",
      "            L.— With gen\n",
      "\n",
      "possess., to belong to, pertain to, be of, be the part of, be peculiar to, be\n",
      "                    characteristic of, be the duty of\n",
      ": audiant eos, quorum summa est auctoritas apud,\n",
      "            etc., \n",
      "who possess\n",
      ": ea ut civitatis Rhodiorum essent, L.:\n",
      "                Aemilius, cuius tum fasces erant, L.:\n",
      "                plebs novarum rerum atque Hannibalis tota esse, \n",
      "were devoted to\n",
      ", L.: negavit moris esse Graecorum, ut,\n",
      "            etc.—With pron\n",
      "\n",
      "possess.\n",
      ": est tuum, Cato, videre quid agatur: fuit meum quidem iam\n",
      "                pridem rem p. lugere.—With \n",
      "gerundive\n",
      ": quae res evertendae rei p. solerent esse, \n",
      "which were the usual causes of ruin to the state\n",
      ": qui utilia ferrent, quaeque aequandae libertatis\n",
      "            essent, L.— With gen. or abl. of \n",
      "quality, to be of, be possessed of, be characterized by, belong to, have,\n",
      "                    exercise\n",
      ": nimium me timidum, nullius consili fuisse confiteor: Sulla\n",
      "                gentis patriciae nobilis fuit, S.: civitas\n",
      "                magnae auctoritatis, Cs.: refer, Cuius\n",
      "                fortunae (sit), H.: nec magni\n",
      "            certaminis ea dimicatio fuit, L.: bellum\n",
      "                variā victoriā fuit, S.: tenuissimā valetudine esse, Cs.: qui capite et superciliis semper est rasis.—With\n",
      "            gen. or abl. of \n",
      "price or value, to be of, be valued at, stand at, be appreciated, cost\n",
      ": videtur esse quantivis preti, T.:\n",
      "                ager nunc multo pluris est, quam tunc fuit: magni erunt\n",
      "            mihi tuae litterae: sextante sal et Romae et per totam Italiam erat, \n",
      "was worth\n",
      ", L.—With dat\n",
      "\n",
      "predic\n",
      "., to express definition or purpose, \n",
      "to serve for, be taken as, be regarded as, be felt to be\n",
      ": vitam hanc rusticam tu probro et crimini putas esse\n",
      "                oportere, \n",
      "ought to be regarded as\n",
      ": eo natus sum ut Iugurthae scelerum ostentui\n",
      "            essem, S.: ipsa res ad levandam annonam\n",
      "                impedimento fuerat, L.—With second dat\n",
      "\n",
      "of pers.\n",
      ": quo magis quae agis curae sunt mihi,\n",
      "            T.: illud Cassianum, ‘cui bono\n",
      "                fuerit,’\n",
      "\n",
      "the inquiry of Cassius\n",
      ", ‘\n",
      "for whose benefit was it\n",
      "’: haec tam parva civitas praedae tibi et quaestui\n",
      "                fuit.—\n",
      "To be sufficient for, be equal to, be fit\n",
      ": sciant patribus aeque curae fuisse, ne, etc.,\n",
      "                L.: ut divites conferrent, qui oneri ferendo\n",
      "            essent, \n",
      "such as were able to bear the burden\n",
      ", L.: cum solvendo aere (old\n",
      "dat. for aeri) alieno res p. non esset, L.—With \n",
      "ellips\n",
      ". of \n",
      "aeri\n",
      ": tu nec solvendo eras, \n",
      "wast unable to pay\n",
      ".—With \n",
      "ad, to be of use for, serve for\n",
      ": res quae sunt ad incendia, Cs.:\n",
      "                valvae, quae olim ad ornandum templum erant\n",
      "            maxime.—With \n",
      "de, to be of, treat concerning, relate to\n",
      ": liber, qui est de animo.—In the phrase,\n",
      "            id est, or hoc est, in explanations, \n",
      "that is, that is to say, I mean\n",
      ": sed domum redeamus, id est ad nostros revertamur:\n",
      "            vos autem, hoc est populus R., etc., S.\n"
     ]
    }
   ],
   "source": [
    "lex_lat = LatinLewisLexicon(interactive=False)      # by default: interactive=True\n",
    "print(lex_lat.lookup(lemmas_bg[1]))"
   ]
  },
  {
   "cell_type": "markdown",
   "id": "918cfcfb",
   "metadata": {},
   "source": [
    "### Greek:"
   ]
  },
  {
   "cell_type": "code",
   "execution_count": 50,
   "id": "79a05058",
   "metadata": {},
   "outputs": [],
   "source": [
    "# missing in action (at least currently)"
   ]
  },
  {
   "cell_type": "markdown",
   "id": "fc75af23",
   "metadata": {},
   "source": [
    "## Declination/Conjugation\n",
    "CLTK also offeres a possibility to delcinate a lemma using the cltk.morphology module. Again this is not available for all languages but we can use Latin to demonstrate this.\n",
    " \n",
    "### Latin:"
   ]
  },
  {
   "cell_type": "code",
   "execution_count": 51,
   "id": "21f2cfa5",
   "metadata": {},
   "outputs": [
    {
     "name": "stdout",
     "output_type": "stream",
     "text": [
      "[('sum', 'v1spia---'), ('es', 'v2spia---'), ('est', 'v3spia---'), ('sumus', 'v1ppia---'), ('estis', 'v2ppia---'), ('sunt', 'v3ppia---'), ('eram', 'v1siia---'), ('eras', 'v2siia---'), ('erat', 'v3siia---'), ('eramus', 'v1piia---')]\n"
     ]
    }
   ],
   "source": [
    "decliner = CollatinusDecliner()\n",
    "\n",
    "# Print conjugation of 'esse' ('be')\n",
    "# Full information\n",
    "print(decliner.decline(lemmas_bg[1], flatten=False, collatinus_dict=False)[0:10]) # attributes both set to False by default"
   ]
  },
  {
   "cell_type": "code",
   "execution_count": 52,
   "id": "f287f269",
   "metadata": {},
   "outputs": [
    {
     "name": "stdout",
     "output_type": "stream",
     "text": [
      "['sum', 'es', 'est', 'sumus', 'estis', 'sunt', 'eram', 'eras', 'erat', 'eramus']\n"
     ]
    }
   ],
   "source": [
    "# Print only conjugated forms\n",
    "print(decliner.decline(lemmas_bg[1], flatten=True, collatinus_dict=False)[0:10])"
   ]
  },
  {
   "cell_type": "markdown",
   "id": "43ab8907",
   "metadata": {},
   "source": [
    "### Greek:"
   ]
  },
  {
   "cell_type": "code",
   "execution_count": 53,
   "id": "6351a570",
   "metadata": {},
   "outputs": [],
   "source": [
    "# missing in action (at least currently)"
   ]
  }
 ],
 "metadata": {
  "celltoolbar": "Raw Cell Format",
  "kernelspec": {
   "display_name": "Python 3",
   "language": "python",
   "name": "python3"
  },
  "language_info": {
   "codemirror_mode": {
    "name": "ipython",
    "version": 3
   },
   "file_extension": ".py",
   "mimetype": "text/x-python",
   "name": "python",
   "nbconvert_exporter": "python",
   "pygments_lexer": "ipython3",
   "version": "3.9.4"
  }
 },
 "nbformat": 4,
 "nbformat_minor": 5
}
